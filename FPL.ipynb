{
 "cells": [
  {
   "cell_type": "code",
   "execution_count": 1,
   "id": "91fd354a",
   "metadata": {},
   "outputs": [],
   "source": [
    "import pandas as pd\n",
    "import numpy as np\n",
    "import requests\n",
    "from bs4 import BeautifulSoup\n",
    "from lxml import html\n",
    "import re"
   ]
  },
  {
   "cell_type": "code",
   "execution_count": 2,
   "id": "2c054e50",
   "metadata": {},
   "outputs": [],
   "source": [
    "url = 'https://fantasy.premierleague.com/api/bootstrap-static/'"
   ]
  },
  {
   "cell_type": "code",
   "execution_count": 3,
   "id": "849f08cf",
   "metadata": {},
   "outputs": [],
   "source": [
    "r = requests.get(url)\n",
    "json = r.json()"
   ]
  },
  {
   "cell_type": "code",
   "execution_count": 5,
   "id": "efbdc878",
   "metadata": {},
   "outputs": [
    {
     "data": {
      "text/html": [
       "<div>\n",
       "<style scoped>\n",
       "    .dataframe tbody tr th:only-of-type {\n",
       "        vertical-align: middle;\n",
       "    }\n",
       "\n",
       "    .dataframe tbody tr th {\n",
       "        vertical-align: top;\n",
       "    }\n",
       "\n",
       "    .dataframe thead th {\n",
       "        text-align: right;\n",
       "    }\n",
       "</style>\n",
       "<table border=\"1\" class=\"dataframe\">\n",
       "  <thead>\n",
       "    <tr style=\"text-align: right;\">\n",
       "      <th></th>\n",
       "      <th>id</th>\n",
       "      <th>web_name</th>\n",
       "      <th>team</th>\n",
       "      <th>element_type</th>\n",
       "      <th>total_points</th>\n",
       "      <th>now_cost</th>\n",
       "    </tr>\n",
       "  </thead>\n",
       "  <tbody>\n",
       "    <tr>\n",
       "      <th>0</th>\n",
       "      <td>1</td>\n",
       "      <td>Cédric</td>\n",
       "      <td>1</td>\n",
       "      <td>2</td>\n",
       "      <td>48</td>\n",
       "      <td>45</td>\n",
       "    </tr>\n",
       "    <tr>\n",
       "      <th>1</th>\n",
       "      <td>2</td>\n",
       "      <td>Leno</td>\n",
       "      <td>1</td>\n",
       "      <td>1</td>\n",
       "      <td>10</td>\n",
       "      <td>45</td>\n",
       "    </tr>\n",
       "    <tr>\n",
       "      <th>2</th>\n",
       "      <td>3</td>\n",
       "      <td>Xhaka</td>\n",
       "      <td>1</td>\n",
       "      <td>3</td>\n",
       "      <td>60</td>\n",
       "      <td>50</td>\n",
       "    </tr>\n",
       "    <tr>\n",
       "      <th>3</th>\n",
       "      <td>4</td>\n",
       "      <td>Elneny</td>\n",
       "      <td>1</td>\n",
       "      <td>3</td>\n",
       "      <td>27</td>\n",
       "      <td>45</td>\n",
       "    </tr>\n",
       "    <tr>\n",
       "      <th>4</th>\n",
       "      <td>5</td>\n",
       "      <td>Holding</td>\n",
       "      <td>1</td>\n",
       "      <td>2</td>\n",
       "      <td>29</td>\n",
       "      <td>45</td>\n",
       "    </tr>\n",
       "  </tbody>\n",
       "</table>\n",
       "</div>"
      ],
      "text/plain": [
       "   id web_name  team  element_type  total_points  now_cost\n",
       "0   1   Cédric     1             2            48        45\n",
       "1   2     Leno     1             1            10        45\n",
       "2   3    Xhaka     1             3            60        50\n",
       "3   4   Elneny     1             3            27        45\n",
       "4   5  Holding     1             2            29        45"
      ]
     },
     "execution_count": 5,
     "metadata": {},
     "output_type": "execute_result"
    }
   ],
   "source": [
    "players = pd.DataFrame(json['elements'])\n",
    "players[['id', 'web_name', 'team', 'element_type','total_points','now_cost']].head()"
   ]
  },
  {
   "cell_type": "code",
   "execution_count": 6,
   "id": "92bd287a",
   "metadata": {},
   "outputs": [],
   "source": [
    "position = np.array([json['element_types'][i]['singular_name_short'] for i in range(4)])"
   ]
  },
  {
   "cell_type": "code",
   "execution_count": 7,
   "id": "d58f187f",
   "metadata": {},
   "outputs": [
    {
     "data": {
      "text/plain": [
       "array(['GKP', 'DEF', 'MID', 'FWD'], dtype='<U3')"
      ]
     },
     "execution_count": 7,
     "metadata": {},
     "output_type": "execute_result"
    }
   ],
   "source": [
    "position"
   ]
  },
  {
   "cell_type": "code",
   "execution_count": 8,
   "id": "70fb74af",
   "metadata": {},
   "outputs": [],
   "source": [
    "pos = players['element_type'].values"
   ]
  },
  {
   "cell_type": "code",
   "execution_count": 9,
   "id": "d9fa6544",
   "metadata": {},
   "outputs": [],
   "source": [
    "pos_word = position[pos-1]"
   ]
  },
  {
   "cell_type": "code",
   "execution_count": 10,
   "id": "f71bf306",
   "metadata": {},
   "outputs": [],
   "source": [
    "players['element_type'] = pos_word"
   ]
  },
  {
   "cell_type": "code",
   "execution_count": 11,
   "id": "605cdc78",
   "metadata": {
    "scrolled": true
   },
   "outputs": [
    {
     "data": {
      "text/html": [
       "<div>\n",
       "<style scoped>\n",
       "    .dataframe tbody tr th:only-of-type {\n",
       "        vertical-align: middle;\n",
       "    }\n",
       "\n",
       "    .dataframe tbody tr th {\n",
       "        vertical-align: top;\n",
       "    }\n",
       "\n",
       "    .dataframe thead th {\n",
       "        text-align: right;\n",
       "    }\n",
       "</style>\n",
       "<table border=\"1\" class=\"dataframe\">\n",
       "  <thead>\n",
       "    <tr style=\"text-align: right;\">\n",
       "      <th></th>\n",
       "      <th>id</th>\n",
       "      <th>web_name</th>\n",
       "      <th>team</th>\n",
       "      <th>element_type</th>\n",
       "      <th>total_points</th>\n",
       "      <th>now_cost</th>\n",
       "    </tr>\n",
       "  </thead>\n",
       "  <tbody>\n",
       "    <tr>\n",
       "      <th>0</th>\n",
       "      <td>1</td>\n",
       "      <td>Cédric</td>\n",
       "      <td>1</td>\n",
       "      <td>DEF</td>\n",
       "      <td>48</td>\n",
       "      <td>45</td>\n",
       "    </tr>\n",
       "    <tr>\n",
       "      <th>1</th>\n",
       "      <td>2</td>\n",
       "      <td>Leno</td>\n",
       "      <td>1</td>\n",
       "      <td>GKP</td>\n",
       "      <td>10</td>\n",
       "      <td>45</td>\n",
       "    </tr>\n",
       "    <tr>\n",
       "      <th>2</th>\n",
       "      <td>3</td>\n",
       "      <td>Xhaka</td>\n",
       "      <td>1</td>\n",
       "      <td>MID</td>\n",
       "      <td>60</td>\n",
       "      <td>50</td>\n",
       "    </tr>\n",
       "    <tr>\n",
       "      <th>3</th>\n",
       "      <td>4</td>\n",
       "      <td>Elneny</td>\n",
       "      <td>1</td>\n",
       "      <td>MID</td>\n",
       "      <td>27</td>\n",
       "      <td>45</td>\n",
       "    </tr>\n",
       "    <tr>\n",
       "      <th>4</th>\n",
       "      <td>5</td>\n",
       "      <td>Holding</td>\n",
       "      <td>1</td>\n",
       "      <td>DEF</td>\n",
       "      <td>29</td>\n",
       "      <td>45</td>\n",
       "    </tr>\n",
       "  </tbody>\n",
       "</table>\n",
       "</div>"
      ],
      "text/plain": [
       "   id web_name  team element_type  total_points  now_cost\n",
       "0   1   Cédric     1          DEF            48        45\n",
       "1   2     Leno     1          GKP            10        45\n",
       "2   3    Xhaka     1          MID            60        50\n",
       "3   4   Elneny     1          MID            27        45\n",
       "4   5  Holding     1          DEF            29        45"
      ]
     },
     "execution_count": 11,
     "metadata": {},
     "output_type": "execute_result"
    }
   ],
   "source": [
    "players[['id', 'web_name', 'team', 'element_type','total_points','now_cost']].head()"
   ]
  },
  {
   "cell_type": "code",
   "execution_count": 12,
   "id": "931434ca",
   "metadata": {},
   "outputs": [],
   "source": [
    "players['ppc'] = players['total_points']/players['now_cost']"
   ]
  },
  {
   "cell_type": "code",
   "execution_count": 13,
   "id": "db756153",
   "metadata": {},
   "outputs": [],
   "source": [
    "players = players.sort_values('ppc', ascending=False)"
   ]
  },
  {
   "cell_type": "code",
   "execution_count": 14,
   "id": "15a9b807",
   "metadata": {},
   "outputs": [],
   "source": [
    "players = players[['web_name', 'team', 'element_type','total_points','now_cost','ppc']]"
   ]
  },
  {
   "cell_type": "code",
   "execution_count": 15,
   "id": "013b13bd",
   "metadata": {},
   "outputs": [],
   "source": [
    "teams = np.array([json['teams'][i]['name'] for i in range(len(json['teams']))])"
   ]
  },
  {
   "cell_type": "code",
   "execution_count": 16,
   "id": "5d655f48",
   "metadata": {},
   "outputs": [],
   "source": [
    "team_ids = players['team'].values"
   ]
  },
  {
   "cell_type": "code",
   "execution_count": 17,
   "id": "73b7d761",
   "metadata": {},
   "outputs": [],
   "source": [
    "team_word = teams[team_ids-1]"
   ]
  },
  {
   "cell_type": "code",
   "execution_count": 18,
   "id": "5d2ba55f",
   "metadata": {},
   "outputs": [],
   "source": [
    "players['team'] = team_word"
   ]
  },
  {
   "cell_type": "code",
   "execution_count": 19,
   "id": "2f5e108d",
   "metadata": {},
   "outputs": [],
   "source": [
    "GKPs = players[players['element_type']=='GKP']\n",
    "DEFs = players[players['element_type']=='DEF']\n",
    "MIDs = players[players['element_type']=='MID']\n",
    "FWDs = players[players['element_type']=='FWD']"
   ]
  },
  {
   "cell_type": "code",
   "execution_count": 21,
   "id": "91d8f93a",
   "metadata": {},
   "outputs": [],
   "source": [
    "writer = pd.ExcelWriter('FPL_Data.xlsx')\n",
    "GKPs.to_excel(writer,'Goalkeepers')\n",
    "DEFs.to_excel(writer,'Defenders')\n",
    "MIDs.to_excel(writer,'Midfielders')\n",
    "FWDs.to_excel(writer,'Forwards')\n",
    "writer.save()"
   ]
  },
  {
   "cell_type": "code",
   "execution_count": null,
   "id": "b7e0e76e",
   "metadata": {},
   "outputs": [],
   "source": []
  }
 ],
 "metadata": {
  "kernelspec": {
   "display_name": "Python 3 (ipykernel)",
   "language": "python",
   "name": "python3"
  },
  "language_info": {
   "codemirror_mode": {
    "name": "ipython",
    "version": 3
   },
   "file_extension": ".py",
   "mimetype": "text/x-python",
   "name": "python",
   "nbconvert_exporter": "python",
   "pygments_lexer": "ipython3",
   "version": "3.9.12"
  }
 },
 "nbformat": 4,
 "nbformat_minor": 5
}
